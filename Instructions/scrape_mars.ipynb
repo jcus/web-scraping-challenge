{
 "cells": [
  {
   "cell_type": "code",
   "execution_count": 1,
   "id": "019392fc",
   "metadata": {},
   "outputs": [],
   "source": [
    "# Use MongoDB with Flask templating to create a new HTML page that displays all of the information \n",
    "# that was scraped from the URLs list\n",
    "\n",
    "# import dependencies\n",
    "# pip install pymongo\n",
    "from bs4 import BeautifulSoup as soup\n",
    "import requests\n",
    "import pymongo\n",
    "\n",
    "from splinter import Browser\n",
    "from webdriver_manager.chrome import ChromeDriverManager\n",
    "import datetime as dt"
   ]
  },
  {
   "cell_type": "code",
   "execution_count": 2,
   "id": "adcaa4da",
   "metadata": {},
   "outputs": [],
   "source": [
    "# connect PyMongo driver for MongoDB Python and dependencies\n",
    "conn = 'mongodb://localhost:27017'\n",
    "client = pymongo.MongoClient(conn)"
   ]
  },
  {
   "cell_type": "code",
   "execution_count": 3,
   "id": "a7750623",
   "metadata": {},
   "outputs": [],
   "source": [
    "# create a route called /scrape that will import your scrape_mars.py script and call your scrape function.\n",
    "\n",
    "# Create a root route / to query Mongo database and pass the mars data into an HTML template \n",
    "# to display the data.\n",
    "\n",
    "# Create a template HTML file called index.html that will take the mars data dictionary and display \n",
    "# all of the data in the appropriate HTML elements. Use the following as a guide for what the \n",
    "# final product should look like, but feel free to create your own design."
   ]
  },
  {
   "cell_type": "code",
   "execution_count": 4,
   "id": "a4de1b0d",
   "metadata": {},
   "outputs": [],
   "source": [
    "# containing all of the scraped data.\n",
    "# Store the return value in Mongo as a Python dictionary\n",
    "\n",
    "# use scrape all function --Scrape Multiple Pages of a Website\n",
    "def scrape_all():\n",
    "    # set up splinter\n",
    "    executable_path = {'executable_path': ChromeDriverManager().install()}\n",
    "    browser = Browser('chrome', **executable_path, headless=False)\n",
    "\n",
    "    # collect information from news page\n",
    "    news_title, news_paragraph = scrape_news(browser)\n",
    "    # build the dictionary using the information from the scrapes\n",
    "    mars_data = {\n",
    "        \"NewsTitle\": news_title,\n",
    "        \"NewsParagraph\": news_paragraph,\n",
    "        \"FeaturedImage\": scrape_feature_img(browser),\n",
    "        \"Facts\": scrape_facts_page(browser),\n",
    "        \"Hemispheres\": scrape_hemispheres_page(browser),\n",
    "        \"LastUpdated\": dt.datetime.now()\n",
    "    }\n",
    "    # stop the webdriver\n",
    "    browser.quit()\n",
    "    # display output\n",
    "    return mars_data"
   ]
  },
  {
   "cell_type": "code",
   "execution_count": 5,
   "id": "a9b35304",
   "metadata": {},
   "outputs": [],
   "source": [
    "# scrape the mars news page\n",
    "def scrape_news(browser):\n",
    "    # Visit the Mars news site\n",
    "    url = 'https://redplanetscience.com/'\n",
    "    browser.visit(url)\n",
    "    \n",
    "    # set delay for loading the page-- wait_time\n",
    "    browser.is_element_present_by_css('div.list_text', wait_time=1)\n",
    "    # Convert the browser html to a soup object\n",
    "    html = browser.html\n",
    "    news_soup = soup(html, 'html.parser')\n",
    "    slide_elem = news_soup.select_one('div.list_text')\n",
    "    \n",
    "    # retrieve the title\n",
    "    news_title = news_soup.find('div', class_='content_title').text\n",
    "    # retrieve the paragraph from the headline\n",
    "    news_p = news_soup.find('div', class_='article_teaser_body').text\n",
    "\n",
    "\n",
    "    # return the title and paragraph information\n",
    "    return news_title, news_p"
   ]
  },
  {
   "cell_type": "code",
   "execution_count": 6,
   "id": "7eb33189",
   "metadata": {},
   "outputs": [],
   "source": [
    "# scrape the featured image page\n",
    "def scrape_feature_img(browser):\n",
    "    # Visit URL\n",
    "    url = 'https://spaceimages-mars.com'\n",
    "    browser.visit(url)\n",
    "\n",
    "\n",
    "    # Find and click the full image button\n",
    "    featured_image_url = browser.find_by_tag('button')[1]\n",
    "    featured_image_url.click()\n",
    "\n",
    "\n",
    "    # HTML object\n",
    "    html = browser.html\n",
    "    # Parse HTML with Beautiful Soup\n",
    "    image_soup = soup(html, 'html.parser')\n",
    "\n",
    "\n",
    "    # find the image url\n",
    "    img_url_rel = image_soup.find('img', class_='fancybox-image').get('src')\n",
    "\n",
    "\n",
    "    # Use the base url to create an absolute url\n",
    "    img_url = f'https://spaceimages-mars.com/{img_url_rel}'\n",
    "\n",
    "\n",
    "    # return the image url\n",
    "    return img_url"
   ]
  },
  {
   "cell_type": "code",
   "execution_count": 7,
   "id": "41592bcc",
   "metadata": {},
   "outputs": [],
   "source": [
    "# scrap through the facts page\n",
    "def scrape_facts_page(browser):\n",
    "    # Visit URL\n",
    "    url = 'https://galaxyfacts-mars.com/'\n",
    "    browser.visit(url)\n",
    "\n",
    "    # HTML object\n",
    "    html = browser.html\n",
    "    # Parse HTML with Beautiful Soup\n",
    "    fact_soup = soup(html, 'html.parser')\n",
    "\n",
    "    # find the facts location\n",
    "    facts_location = fact_soup.find('div', class_=\"diagram mt-4\")\n",
    "    fact_table = facts_location.find('table')\n",
    "\n",
    "    # create an empty string\n",
    "    facts = \"\"\n",
    "\n",
    "    # add the text to the empty string then return\n",
    "    facts += str(fact_table)\n",
    "    return facts"
   ]
  },
  {
   "cell_type": "code",
   "execution_count": 8,
   "id": "19ac2c90",
   "metadata": {},
   "outputs": [],
   "source": [
    "# scrape through the hemispheres pages\n",
    "def scrape_hemispheres_page(browser):\n",
    "    # base url\n",
    "    url = \"https://marshemispheres.com/\"\n",
    "    browser.visit(url)\n",
    "\n",
    "    # Create a list to hold the images and titles\n",
    "    hemisphere_image_urls = []\n",
    "    \n",
    "    # set up the loop to loop through each page\n",
    "    for i in range(4):\n",
    "        # hemisphere info dictionary\n",
    "        hemisphere_info = {}\n",
    "    \n",
    "        # find the elements on each loop to avoid a stale element exception\n",
    "        browser.find_by_css('a.product-item img')[i].click()\n",
    "    \n",
    "        # find the Sample image anchor tag and extract the href\n",
    "        sample = browser.links.find_by_text('Sample').first\n",
    "        hemisphere_info[\"img_url\"] = sample['href']\n",
    "    \n",
    "        # Get Hemisphere title\n",
    "        hemisphere_info['title'] = browser.find_by_css('h2.title').text\n",
    "    \n",
    "        # Append hemisphere object to list\n",
    "        hemisphere_image_urls.append(hemisphere_info)\n",
    "    \n",
    "        # Finally, we navigate backwards\n",
    "        browser.back()\n",
    "\n",
    "\n",
    "    # return the hemisphere url with the titles\n",
    "    return hemisphere_image_urls"
   ]
  },
  {
   "cell_type": "code",
   "execution_count": 9,
   "id": "ba9c911a",
   "metadata": {},
   "outputs": [
    {
     "name": "stderr",
     "output_type": "stream",
     "text": [
      "\n",
      "\n",
      "====== WebDriver manager ======\n",
      "Current google-chrome version is 98.0.4758\n",
      "Get LATEST chromedriver version for 98.0.4758 google-chrome\n",
      "Driver [C:\\Users\\juch0\\.wdm\\drivers\\chromedriver\\win32\\98.0.4758.80\\chromedriver.exe] found in cache\n"
     ]
    },
    {
     "name": "stdout",
     "output_type": "stream",
     "text": [
      "{'NewsTitle': 'My Culture, My Voice', 'NewsParagraph': 'In honor of Hispanic Heritage Month, Christina Hernandez, an instrument engineer on the Mars 2020 mission, talks about her childhood and journey to NASA.', 'FeaturedImage': 'https://spaceimages-mars.com/image/featured/mars1.jpg', 'Facts': '<table class=\"table\">\\n<tbody>\\n<tr>\\n<th scope=\"row\"><b> Mars - Earth Comparison</b></th>\\n<td><span class=\"orange\"><b> Mars</b></span></td>\\n<td><span class=\"purple\"> <b>Earth </b></span> </td>\\n</tr>\\n<tr>\\n<th scope=\"row\">Diameter:</th>\\n<td><span class=\"orange\">6,779 km</span></td>\\n<td><span class=\"purple\">12,742 km</span> </td>\\n</tr>\\n<tr>\\n<th scope=\"row\">Mass:</th>\\n<td><span class=\"orange\">6.39 × 10^23 kg </span></td>\\n<td><span class=\"purple\">5.97 × 10^24 kg</span> </td>\\n</tr>\\n<tr>\\n<th scope=\"row\">Moons:</th>\\n<td><span class=\"orange\">2</span></td>\\n<td><span class=\"purple\">1</span> </td>\\n</tr>\\n<tr>\\n<th scope=\"row\">Distance from Sun:</th>\\n<td><span class=\"orange\">227,943,824 km</span></td>\\n<td><span class=\"purple\">149,598,262 km</span> </td>\\n</tr>\\n<tr>\\n<th scope=\"row\">Length of Year:</th>\\n<td><span class=\"orange\">687 Earth days</span></td>\\n<td><span class=\"purple\">365.24 days</span> </td>\\n</tr>\\n<tr>\\n<th scope=\"row\">Temperature:</th>\\n<td><span class=\"orange\">-87 to -5 °C</span></td>\\n<td><span class=\"purple\">\\t-88 to 58°C</span> </td>\\n</tr>\\n</tbody>\\n</table>', 'Hemispheres': [{'img_url': 'https://marshemispheres.com/images/full.jpg', 'title': 'Cerberus Hemisphere Enhanced'}, {'img_url': 'https://marshemispheres.com/images/schiaparelli_enhanced-full.jpg', 'title': 'Schiaparelli Hemisphere Enhanced'}, {'img_url': 'https://marshemispheres.com/images/syrtis_major_enhanced-full.jpg', 'title': 'Syrtis Major Hemisphere Enhanced'}, {'img_url': 'https://marshemispheres.com/images/valles_marineris_enhanced-full.jpg', 'title': 'Valles Marineris Hemisphere Enhanced'}], 'LastUpdated': datetime.datetime(2022, 2, 8, 11, 55, 35, 849741)}\n"
     ]
    }
   ],
   "source": [
    "# set up as a flask app\n",
    "if __name__ == \"__main__\":\n",
    "    print(scrape_all())"
   ]
  },
  {
   "cell_type": "code",
   "execution_count": null,
   "id": "47e2d8f0",
   "metadata": {},
   "outputs": [],
   "source": []
  }
 ],
 "metadata": {
  "kernelspec": {
   "display_name": "Python 3",
   "language": "python",
   "name": "python3"
  },
  "language_info": {
   "codemirror_mode": {
    "name": "ipython",
    "version": 3
   },
   "file_extension": ".py",
   "mimetype": "text/x-python",
   "name": "python",
   "nbconvert_exporter": "python",
   "pygments_lexer": "ipython3",
   "version": "3.8.8"
  }
 },
 "nbformat": 4,
 "nbformat_minor": 5
}
